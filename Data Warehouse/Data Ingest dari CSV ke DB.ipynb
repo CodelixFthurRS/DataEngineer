{
  "cells": [
    {
      "cell_type": "markdown",
      "metadata": {
        "id": "quq6EgtlaHl6"
      },
      "source": [
        "Data Ingestion"
      ]
    },
    {
      "cell_type": "code",
      "execution_count": null,
      "metadata": {
        "colab": {
          "base_uri": "https://localhost:8080/"
        },
        "id": "aOYApOjAUtbr",
        "outputId": "a734fd55-211a-483b-ae00-93443684d4cd"
      },
      "outputs": [
        {
          "name": "stdout",
          "output_type": "stream",
          "text": [
            "Collecting mysql-connector-python\n",
            "  Downloading mysql_connector_python-8.0.28-cp37-cp37m-manylinux1_x86_64.whl (37.6 MB)\n",
            "\u001b[K     |████████████████████████████████| 37.6 MB 479 kB/s \n",
            "\u001b[?25hRequirement already satisfied: protobuf>=3.0.0 in /usr/local/lib/python3.7/dist-packages (from mysql-connector-python) (3.17.3)\n",
            "Requirement already satisfied: six>=1.9 in /usr/local/lib/python3.7/dist-packages (from protobuf>=3.0.0->mysql-connector-python) (1.15.0)\n",
            "Installing collected packages: mysql-connector-python\n",
            "Successfully installed mysql-connector-python-8.0.28\n"
          ]
        }
      ],
      "source": [
        "#install lib\n",
        "!pip install mysql-connector-python"
      ]
    },
    {
      "cell_type": "code",
      "execution_count": null,
      "metadata": {
        "id": "wAehkE1GQ4gB"
      },
      "outputs": [],
      "source": [
        "# Import module\n",
        "import pandas as pd\n",
        "from sqlalchemy import create_engine\n",
        "import mysql.connector\n",
        "import json"
      ]
    },
    {
      "cell_type": "code",
      "execution_count": 63,
      "metadata": {
        "id": "6ytSpCsaToQ8"
      },
      "outputs": [],
      "source": [
        "# Membaca file CSV ke dalam data frame\n",
        "data_frames = {}\n",
        "csv_files = [\n",
        "    \"CSV/olist_customers_dataset.csv\",\n",
        "    \"CSV/olist_order_items_dataset.csv\",\n",
        "    \"CSV/olist_order_payments_dataset.csv\",\n",
        "    \"CSV/olist_order_reviews_dataset.csv\",\n",
        "    \"CSV/olist_orders_dataset.csv\",\n",
        "    \"CSV/olist_products_dataset.csv\",\n",
        "    \"CSV/olist_sellers_dataset.csv\",\n",
        "    \"CSV/product_category_name_translation.csv\"\n",
        "]\n",
        "\n",
        "for csv_file in csv_files:\n",
        "    df_name = csv_file.split(\"/\")[-1].split(\".\")[0]\n",
        "    data_frames[df_name] = pd.read_csv(csv_file)"
      ]
    },
    {
      "cell_type": "code",
      "execution_count": 21,
      "metadata": {
        "id": "9TJSGn5SYHAQ"
      },
      "outputs": [],
      "source": [
        "# Membaca kredensial dari file JSON\n",
        "with open('credentials.json', 'r') as cred:\n",
        "    credential = json.load(cred)['mysql']\n"
      ]
    },
    {
      "cell_type": "code",
      "execution_count": 22,
      "metadata": {
        "id": "MXYeHsAxVvE8"
      },
      "outputs": [],
      "source": [
        "# Kredensial\n",
        "DB_NAME = credential['database']\n",
        "DB_USER = credential['username']\n",
        "DB_PASSWORD = credential['password']\n",
        "DB_HOST = credential['host']\n",
        "DB_PORT = credential['port']\n"
      ]
    },
    {
      "cell_type": "code",
      "execution_count": 60,
      "metadata": {
        "id": "g0XeNsyDUT_A"
      },
      "outputs": [],
      "source": [
        "# Membuat koneksi\n",
        "mysql_engine = create_engine(f\"mysql+mysqlconnector://{DB_USER}:{DB_PASSWORD}@{DB_HOST}:{DB_PORT}/{DB_NAME}\")\n",
        "\n",
        "# Memasukkan data ke dalam database\n",
        "for table_name, df in data_frames.items():\n",
        "    df.to_sql(name=table_name, con=mysql_engine, if_exists='replace', index=False)\n",
        "\n",
        "# Menutup koneksi\n",
        "mysql_engine.dispose()"
      ]
    }
  ],
  "metadata": {
    "colab": {
      "name": "Stockbit Data Engineer Test.ipynb",
      "provenance": []
    },
    "kernelspec": {
      "display_name": "Python 3",
      "name": "python3"
    },
    "language_info": {
      "name": "python"
    }
  },
  "nbformat": 4,
  "nbformat_minor": 0
}
