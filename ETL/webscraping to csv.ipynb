{
  "nbformat": 4,
  "nbformat_minor": 0,
  "metadata": {
    "colab": {
      "provenance": []
    },
    "kernelspec": {
      "name": "python3",
      "display_name": "Python 3"
    },
    "language_info": {
      "name": "python"
    }
  },
  "cells": [
    {
      "cell_type": "markdown",
      "source": [
        "**Import Kebutuhan Library**"
      ],
      "metadata": {
        "id": "9rPJ8Y7SSV4w"
      }
    },
    {
      "cell_type": "code",
      "execution_count": null,
      "metadata": {
        "id": "bXonNvHkOjKE"
      },
      "outputs": [],
      "source": [
        "import pandas as pd\n",
        "import datetime"
      ]
    },
    {
      "cell_type": "markdown",
      "source": [
        "**Link web yang ingin di scraping**"
      ],
      "metadata": {
        "id": "5WU0MItbSdrR"
      }
    },
    {
      "cell_type": "code",
      "source": [
        "urls = \"https://id.wikipedia.org/wiki/Daftar_miliarder_Forbes\"\n",
        "kursurl = \"http://kurs.dollar.web.id/\""
      ],
      "metadata": {
        "id": "OsyaGZvYOwDG"
      },
      "execution_count": null,
      "outputs": []
    },
    {
      "cell_type": "markdown",
      "source": [
        "**EKSTRAK dan SCRAP DATA DARI WEB WIKIPEDIA dan Kurs.dollar.web.id**"
      ],
      "metadata": {
        "id": "AE8vjQfkRazn"
      }
    },
    {
      "cell_type": "code",
      "source": [
        "kursIDR = pd.read_html(kursurl, index_col=0)[0]\n",
        "kursIDR = kursIDR.loc['USD','Tengah']\n",
        "kursIDR"
      ],
      "metadata": {
        "colab": {
          "base_uri": "https://localhost:8080/"
        },
        "id": "IUe1ZAnieHRE",
        "outputId": "e9483695-78c0-44bf-a69c-ba99fb740abe"
      },
      "execution_count": null,
      "outputs": [
        {
          "output_type": "execute_result",
          "data": {
            "text/plain": [
              "15.306"
            ]
          },
          "metadata": {},
          "execution_count": 256
        }
      ]
    },
    {
      "cell_type": "code",
      "source": [
        "def bacahtml(url):\n",
        "  df = pd.read_html(url,header=None)\n",
        "  return df"
      ],
      "metadata": {
        "id": "kGPpZKAWOzZ2"
      },
      "execution_count": null,
      "outputs": []
    },
    {
      "cell_type": "markdown",
      "source": [
        "**Transform Data yang sudah di ektrak**"
      ],
      "metadata": {
        "id": "xrdzKLX0Snt3"
      }
    },
    {
      "cell_type": "code",
      "source": [
        "def transform(data):\n",
        "  #Menambahkan angka di nomor urut\n",
        "  data['No.'] = data.index+1\n",
        "\n",
        "  #Menambahkan tahun\n",
        "  data['tahun'] = '2021'\n",
        "\n",
        "  #Mengubah dan membersihkan data string kemudian mengubahnya menjadi integer\n",
        "  data['Kekayaan bersih (USD)'] = data['Kekayaan bersih (USD)'].str.replace(\"$\",\"\")\n",
        "  data['Kekayaan bersih (USD)'] = data['Kekayaan bersih (USD)'].str.replace(\"miliar\",\"\")\n",
        "  data['Kekayaan bersih (USD)'] = data['Kekayaan bersih (USD)'].str.replace(\" \",\"\")\n",
        "  data['Kekayaan bersih (USD)'] = data['Kekayaan bersih (USD)'].astype(float)\n",
        "\n",
        "  #ubah nilai mata uang menjadi 3 digit\n",
        "  data['Kekayaan bersih (USD)'] = data['Kekayaan bersih (USD)'].round()\n",
        "\n",
        "  #Mengubah nilai mata uang menjadi rupiah\n",
        "  data['Kekayaan bersih (USD)'] = data['Kekayaan bersih (USD)'] * kursIDR\n",
        "\n",
        "  #Mengubah nama kolom\n",
        "  data = data.rename(columns={\"No.\":\"Nomor Urut\"})\n",
        "  data = data.rename(columns={\"Kekayaan bersih (USD)\":\"Kekayaan bersih (IDR - Triliun)\"})\n",
        "  return data"
      ],
      "metadata": {
        "id": "HBUhAf3mRp4u"
      },
      "execution_count": null,
      "outputs": []
    },
    {
      "cell_type": "markdown",
      "source": [
        "**LOAD DATA KE CSV**"
      ],
      "metadata": {
        "id": "1aSmeq0OkJzw"
      }
    },
    {
      "cell_type": "code",
      "source": [
        "tanggal = datetime.datetime.now()\n",
        "tanggal = tanggal.strftime(\"%d-%m-%Y\")\n",
        "def load (data,namafile):\n",
        "  df = data.to_csv(f\"{namafile} - {tanggal}\")\n",
        "  return df"
      ],
      "metadata": {
        "id": "3jq_YEBPkIzK"
      },
      "execution_count": null,
      "outputs": []
    },
    {
      "cell_type": "markdown",
      "source": [
        "**EKSEKUSI ETL - Ekstrak**"
      ],
      "metadata": {
        "id": "hI2z_L4_kaaC"
      }
    },
    {
      "cell_type": "code",
      "source": [
        "data = bacahtml(urls)[1]\n",
        "data"
      ],
      "metadata": {
        "colab": {
          "base_uri": "https://localhost:8080/",
          "height": 363
        },
        "id": "1gg5rubhkaLK",
        "outputId": "7f06bc7d-8ea5-4771-a37c-ae273caea01c"
      },
      "execution_count": null,
      "outputs": [
        {
          "output_type": "execute_result",
          "data": {
            "text/plain": [
              "   No.                        Nama Kekayaan bersih (USD)  Usia  \\\n",
              "0  NaN                  Jeff Bezos           $177 miliar    57   \n",
              "1  NaN                   Elon Musk           $151 miliar    49   \n",
              "2  NaN  Bernard Arnault & keluarga           $150 miliar    72   \n",
              "3  NaN                  Bill Gates           $124 miliar    65   \n",
              "4  NaN             Mark Zuckerberg            $97 miliar    36   \n",
              "5  NaN              Warren Buffett            $96 miliar    90   \n",
              "6  NaN               Larry Ellison            $93 miliar    76   \n",
              "7  NaN                  Larry Page          $91.5 miliar    48   \n",
              "8  NaN                 Sergey Brin            $89 miliar    47   \n",
              "9  NaN               Mukesh Ambani          $84.5 miliar    63   \n",
              "\n",
              "        Kebangsaan      Sumber kekayaan  \n",
              "0  Amerika Serikat               Amazon  \n",
              "1  Amerika Serikat        Tesla, SpaceX  \n",
              "2          Prancis                 LVMH  \n",
              "3  Amerika Serikat            Microsoft  \n",
              "4  Amerika Serikat       Meta Platforms  \n",
              "5  Amerika Serikat   Berkshire Hathaway  \n",
              "6  Amerika Serikat   Oracle Corporation  \n",
              "7  Amerika Serikat        Alphabet Inc.  \n",
              "8  Amerika Serikat        Alphabet Inc.  \n",
              "9            India  Reliance Industries  "
            ],
            "text/html": [
              "\n",
              "  <div id=\"df-4f024d64-91c9-4ee9-b7df-5405083cf618\">\n",
              "    <div class=\"colab-df-container\">\n",
              "      <div>\n",
              "<style scoped>\n",
              "    .dataframe tbody tr th:only-of-type {\n",
              "        vertical-align: middle;\n",
              "    }\n",
              "\n",
              "    .dataframe tbody tr th {\n",
              "        vertical-align: top;\n",
              "    }\n",
              "\n",
              "    .dataframe thead th {\n",
              "        text-align: right;\n",
              "    }\n",
              "</style>\n",
              "<table border=\"1\" class=\"dataframe\">\n",
              "  <thead>\n",
              "    <tr style=\"text-align: right;\">\n",
              "      <th></th>\n",
              "      <th>No.</th>\n",
              "      <th>Nama</th>\n",
              "      <th>Kekayaan bersih (USD)</th>\n",
              "      <th>Usia</th>\n",
              "      <th>Kebangsaan</th>\n",
              "      <th>Sumber kekayaan</th>\n",
              "    </tr>\n",
              "  </thead>\n",
              "  <tbody>\n",
              "    <tr>\n",
              "      <th>0</th>\n",
              "      <td>NaN</td>\n",
              "      <td>Jeff Bezos</td>\n",
              "      <td>$177 miliar</td>\n",
              "      <td>57</td>\n",
              "      <td>Amerika Serikat</td>\n",
              "      <td>Amazon</td>\n",
              "    </tr>\n",
              "    <tr>\n",
              "      <th>1</th>\n",
              "      <td>NaN</td>\n",
              "      <td>Elon Musk</td>\n",
              "      <td>$151 miliar</td>\n",
              "      <td>49</td>\n",
              "      <td>Amerika Serikat</td>\n",
              "      <td>Tesla, SpaceX</td>\n",
              "    </tr>\n",
              "    <tr>\n",
              "      <th>2</th>\n",
              "      <td>NaN</td>\n",
              "      <td>Bernard Arnault &amp; keluarga</td>\n",
              "      <td>$150 miliar</td>\n",
              "      <td>72</td>\n",
              "      <td>Prancis</td>\n",
              "      <td>LVMH</td>\n",
              "    </tr>\n",
              "    <tr>\n",
              "      <th>3</th>\n",
              "      <td>NaN</td>\n",
              "      <td>Bill Gates</td>\n",
              "      <td>$124 miliar</td>\n",
              "      <td>65</td>\n",
              "      <td>Amerika Serikat</td>\n",
              "      <td>Microsoft</td>\n",
              "    </tr>\n",
              "    <tr>\n",
              "      <th>4</th>\n",
              "      <td>NaN</td>\n",
              "      <td>Mark Zuckerberg</td>\n",
              "      <td>$97 miliar</td>\n",
              "      <td>36</td>\n",
              "      <td>Amerika Serikat</td>\n",
              "      <td>Meta Platforms</td>\n",
              "    </tr>\n",
              "    <tr>\n",
              "      <th>5</th>\n",
              "      <td>NaN</td>\n",
              "      <td>Warren Buffett</td>\n",
              "      <td>$96 miliar</td>\n",
              "      <td>90</td>\n",
              "      <td>Amerika Serikat</td>\n",
              "      <td>Berkshire Hathaway</td>\n",
              "    </tr>\n",
              "    <tr>\n",
              "      <th>6</th>\n",
              "      <td>NaN</td>\n",
              "      <td>Larry Ellison</td>\n",
              "      <td>$93 miliar</td>\n",
              "      <td>76</td>\n",
              "      <td>Amerika Serikat</td>\n",
              "      <td>Oracle Corporation</td>\n",
              "    </tr>\n",
              "    <tr>\n",
              "      <th>7</th>\n",
              "      <td>NaN</td>\n",
              "      <td>Larry Page</td>\n",
              "      <td>$91.5 miliar</td>\n",
              "      <td>48</td>\n",
              "      <td>Amerika Serikat</td>\n",
              "      <td>Alphabet Inc.</td>\n",
              "    </tr>\n",
              "    <tr>\n",
              "      <th>8</th>\n",
              "      <td>NaN</td>\n",
              "      <td>Sergey Brin</td>\n",
              "      <td>$89 miliar</td>\n",
              "      <td>47</td>\n",
              "      <td>Amerika Serikat</td>\n",
              "      <td>Alphabet Inc.</td>\n",
              "    </tr>\n",
              "    <tr>\n",
              "      <th>9</th>\n",
              "      <td>NaN</td>\n",
              "      <td>Mukesh Ambani</td>\n",
              "      <td>$84.5 miliar</td>\n",
              "      <td>63</td>\n",
              "      <td>India</td>\n",
              "      <td>Reliance Industries</td>\n",
              "    </tr>\n",
              "  </tbody>\n",
              "</table>\n",
              "</div>\n",
              "      <button class=\"colab-df-convert\" onclick=\"convertToInteractive('df-4f024d64-91c9-4ee9-b7df-5405083cf618')\"\n",
              "              title=\"Convert this dataframe to an interactive table.\"\n",
              "              style=\"display:none;\">\n",
              "        \n",
              "  <svg xmlns=\"http://www.w3.org/2000/svg\" height=\"24px\"viewBox=\"0 0 24 24\"\n",
              "       width=\"24px\">\n",
              "    <path d=\"M0 0h24v24H0V0z\" fill=\"none\"/>\n",
              "    <path d=\"M18.56 5.44l.94 2.06.94-2.06 2.06-.94-2.06-.94-.94-2.06-.94 2.06-2.06.94zm-11 1L8.5 8.5l.94-2.06 2.06-.94-2.06-.94L8.5 2.5l-.94 2.06-2.06.94zm10 10l.94 2.06.94-2.06 2.06-.94-2.06-.94-.94-2.06-.94 2.06-2.06.94z\"/><path d=\"M17.41 7.96l-1.37-1.37c-.4-.4-.92-.59-1.43-.59-.52 0-1.04.2-1.43.59L10.3 9.45l-7.72 7.72c-.78.78-.78 2.05 0 2.83L4 21.41c.39.39.9.59 1.41.59.51 0 1.02-.2 1.41-.59l7.78-7.78 2.81-2.81c.8-.78.8-2.07 0-2.86zM5.41 20L4 18.59l7.72-7.72 1.47 1.35L5.41 20z\"/>\n",
              "  </svg>\n",
              "      </button>\n",
              "      \n",
              "  <style>\n",
              "    .colab-df-container {\n",
              "      display:flex;\n",
              "      flex-wrap:wrap;\n",
              "      gap: 12px;\n",
              "    }\n",
              "\n",
              "    .colab-df-convert {\n",
              "      background-color: #E8F0FE;\n",
              "      border: none;\n",
              "      border-radius: 50%;\n",
              "      cursor: pointer;\n",
              "      display: none;\n",
              "      fill: #1967D2;\n",
              "      height: 32px;\n",
              "      padding: 0 0 0 0;\n",
              "      width: 32px;\n",
              "    }\n",
              "\n",
              "    .colab-df-convert:hover {\n",
              "      background-color: #E2EBFA;\n",
              "      box-shadow: 0px 1px 2px rgba(60, 64, 67, 0.3), 0px 1px 3px 1px rgba(60, 64, 67, 0.15);\n",
              "      fill: #174EA6;\n",
              "    }\n",
              "\n",
              "    [theme=dark] .colab-df-convert {\n",
              "      background-color: #3B4455;\n",
              "      fill: #D2E3FC;\n",
              "    }\n",
              "\n",
              "    [theme=dark] .colab-df-convert:hover {\n",
              "      background-color: #434B5C;\n",
              "      box-shadow: 0px 1px 3px 1px rgba(0, 0, 0, 0.15);\n",
              "      filter: drop-shadow(0px 1px 2px rgba(0, 0, 0, 0.3));\n",
              "      fill: #FFFFFF;\n",
              "    }\n",
              "  </style>\n",
              "\n",
              "      <script>\n",
              "        const buttonEl =\n",
              "          document.querySelector('#df-4f024d64-91c9-4ee9-b7df-5405083cf618 button.colab-df-convert');\n",
              "        buttonEl.style.display =\n",
              "          google.colab.kernel.accessAllowed ? 'block' : 'none';\n",
              "\n",
              "        async function convertToInteractive(key) {\n",
              "          const element = document.querySelector('#df-4f024d64-91c9-4ee9-b7df-5405083cf618');\n",
              "          const dataTable =\n",
              "            await google.colab.kernel.invokeFunction('convertToInteractive',\n",
              "                                                     [key], {});\n",
              "          if (!dataTable) return;\n",
              "\n",
              "          const docLinkHtml = 'Like what you see? Visit the ' +\n",
              "            '<a target=\"_blank\" href=https://colab.research.google.com/notebooks/data_table.ipynb>data table notebook</a>'\n",
              "            + ' to learn more about interactive tables.';\n",
              "          element.innerHTML = '';\n",
              "          dataTable['output_type'] = 'display_data';\n",
              "          await google.colab.output.renderOutput(dataTable, element);\n",
              "          const docLink = document.createElement('div');\n",
              "          docLink.innerHTML = docLinkHtml;\n",
              "          element.appendChild(docLink);\n",
              "        }\n",
              "      </script>\n",
              "    </div>\n",
              "  </div>\n",
              "  "
            ]
          },
          "metadata": {},
          "execution_count": 261
        }
      ]
    },
    {
      "cell_type": "markdown",
      "source": [
        "**EKSEKUSI ETL - Transform**"
      ],
      "metadata": {
        "id": "eCMjVtIwknub"
      }
    },
    {
      "cell_type": "code",
      "source": [
        "trans = transform(data)\n",
        "trans.head()"
      ],
      "metadata": {
        "colab": {
          "base_uri": "https://localhost:8080/",
          "height": 261
        },
        "id": "Oo7h6MRDknO7",
        "outputId": "8bda2daa-c5d1-49d5-8c93-621ab7c77221"
      },
      "execution_count": null,
      "outputs": [
        {
          "output_type": "stream",
          "name": "stderr",
          "text": [
            "<ipython-input-258-f6e7f7dffbcd>:9: FutureWarning: The default value of regex will change from True to False in a future version. In addition, single character regular expressions will *not* be treated as literal strings when regex=True.\n",
            "  data['Kekayaan bersih (USD)'] = data['Kekayaan bersih (USD)'].str.replace(\"$\",\"\")\n"
          ]
        },
        {
          "output_type": "execute_result",
          "data": {
            "text/plain": [
              "   Nomor Urut                        Nama  Kekayaan bersih (IDR - Triliun)  \\\n",
              "0           1                  Jeff Bezos                         2709.162   \n",
              "1           2                   Elon Musk                         2311.206   \n",
              "2           3  Bernard Arnault & keluarga                         2295.900   \n",
              "3           4                  Bill Gates                         1897.944   \n",
              "4           5             Mark Zuckerberg                         1484.682   \n",
              "\n",
              "   Usia       Kebangsaan Sumber kekayaan tahun  \n",
              "0    57  Amerika Serikat          Amazon  2021  \n",
              "1    49  Amerika Serikat   Tesla, SpaceX  2021  \n",
              "2    72          Prancis            LVMH  2021  \n",
              "3    65  Amerika Serikat       Microsoft  2021  \n",
              "4    36  Amerika Serikat  Meta Platforms  2021  "
            ],
            "text/html": [
              "\n",
              "  <div id=\"df-4921a2e1-b0b2-44aa-8892-0b5c5dcfd278\">\n",
              "    <div class=\"colab-df-container\">\n",
              "      <div>\n",
              "<style scoped>\n",
              "    .dataframe tbody tr th:only-of-type {\n",
              "        vertical-align: middle;\n",
              "    }\n",
              "\n",
              "    .dataframe tbody tr th {\n",
              "        vertical-align: top;\n",
              "    }\n",
              "\n",
              "    .dataframe thead th {\n",
              "        text-align: right;\n",
              "    }\n",
              "</style>\n",
              "<table border=\"1\" class=\"dataframe\">\n",
              "  <thead>\n",
              "    <tr style=\"text-align: right;\">\n",
              "      <th></th>\n",
              "      <th>Nomor Urut</th>\n",
              "      <th>Nama</th>\n",
              "      <th>Kekayaan bersih (IDR - Triliun)</th>\n",
              "      <th>Usia</th>\n",
              "      <th>Kebangsaan</th>\n",
              "      <th>Sumber kekayaan</th>\n",
              "      <th>tahun</th>\n",
              "    </tr>\n",
              "  </thead>\n",
              "  <tbody>\n",
              "    <tr>\n",
              "      <th>0</th>\n",
              "      <td>1</td>\n",
              "      <td>Jeff Bezos</td>\n",
              "      <td>2709.162</td>\n",
              "      <td>57</td>\n",
              "      <td>Amerika Serikat</td>\n",
              "      <td>Amazon</td>\n",
              "      <td>2021</td>\n",
              "    </tr>\n",
              "    <tr>\n",
              "      <th>1</th>\n",
              "      <td>2</td>\n",
              "      <td>Elon Musk</td>\n",
              "      <td>2311.206</td>\n",
              "      <td>49</td>\n",
              "      <td>Amerika Serikat</td>\n",
              "      <td>Tesla, SpaceX</td>\n",
              "      <td>2021</td>\n",
              "    </tr>\n",
              "    <tr>\n",
              "      <th>2</th>\n",
              "      <td>3</td>\n",
              "      <td>Bernard Arnault &amp; keluarga</td>\n",
              "      <td>2295.900</td>\n",
              "      <td>72</td>\n",
              "      <td>Prancis</td>\n",
              "      <td>LVMH</td>\n",
              "      <td>2021</td>\n",
              "    </tr>\n",
              "    <tr>\n",
              "      <th>3</th>\n",
              "      <td>4</td>\n",
              "      <td>Bill Gates</td>\n",
              "      <td>1897.944</td>\n",
              "      <td>65</td>\n",
              "      <td>Amerika Serikat</td>\n",
              "      <td>Microsoft</td>\n",
              "      <td>2021</td>\n",
              "    </tr>\n",
              "    <tr>\n",
              "      <th>4</th>\n",
              "      <td>5</td>\n",
              "      <td>Mark Zuckerberg</td>\n",
              "      <td>1484.682</td>\n",
              "      <td>36</td>\n",
              "      <td>Amerika Serikat</td>\n",
              "      <td>Meta Platforms</td>\n",
              "      <td>2021</td>\n",
              "    </tr>\n",
              "  </tbody>\n",
              "</table>\n",
              "</div>\n",
              "      <button class=\"colab-df-convert\" onclick=\"convertToInteractive('df-4921a2e1-b0b2-44aa-8892-0b5c5dcfd278')\"\n",
              "              title=\"Convert this dataframe to an interactive table.\"\n",
              "              style=\"display:none;\">\n",
              "        \n",
              "  <svg xmlns=\"http://www.w3.org/2000/svg\" height=\"24px\"viewBox=\"0 0 24 24\"\n",
              "       width=\"24px\">\n",
              "    <path d=\"M0 0h24v24H0V0z\" fill=\"none\"/>\n",
              "    <path d=\"M18.56 5.44l.94 2.06.94-2.06 2.06-.94-2.06-.94-.94-2.06-.94 2.06-2.06.94zm-11 1L8.5 8.5l.94-2.06 2.06-.94-2.06-.94L8.5 2.5l-.94 2.06-2.06.94zm10 10l.94 2.06.94-2.06 2.06-.94-2.06-.94-.94-2.06-.94 2.06-2.06.94z\"/><path d=\"M17.41 7.96l-1.37-1.37c-.4-.4-.92-.59-1.43-.59-.52 0-1.04.2-1.43.59L10.3 9.45l-7.72 7.72c-.78.78-.78 2.05 0 2.83L4 21.41c.39.39.9.59 1.41.59.51 0 1.02-.2 1.41-.59l7.78-7.78 2.81-2.81c.8-.78.8-2.07 0-2.86zM5.41 20L4 18.59l7.72-7.72 1.47 1.35L5.41 20z\"/>\n",
              "  </svg>\n",
              "      </button>\n",
              "      \n",
              "  <style>\n",
              "    .colab-df-container {\n",
              "      display:flex;\n",
              "      flex-wrap:wrap;\n",
              "      gap: 12px;\n",
              "    }\n",
              "\n",
              "    .colab-df-convert {\n",
              "      background-color: #E8F0FE;\n",
              "      border: none;\n",
              "      border-radius: 50%;\n",
              "      cursor: pointer;\n",
              "      display: none;\n",
              "      fill: #1967D2;\n",
              "      height: 32px;\n",
              "      padding: 0 0 0 0;\n",
              "      width: 32px;\n",
              "    }\n",
              "\n",
              "    .colab-df-convert:hover {\n",
              "      background-color: #E2EBFA;\n",
              "      box-shadow: 0px 1px 2px rgba(60, 64, 67, 0.3), 0px 1px 3px 1px rgba(60, 64, 67, 0.15);\n",
              "      fill: #174EA6;\n",
              "    }\n",
              "\n",
              "    [theme=dark] .colab-df-convert {\n",
              "      background-color: #3B4455;\n",
              "      fill: #D2E3FC;\n",
              "    }\n",
              "\n",
              "    [theme=dark] .colab-df-convert:hover {\n",
              "      background-color: #434B5C;\n",
              "      box-shadow: 0px 1px 3px 1px rgba(0, 0, 0, 0.15);\n",
              "      filter: drop-shadow(0px 1px 2px rgba(0, 0, 0, 0.3));\n",
              "      fill: #FFFFFF;\n",
              "    }\n",
              "  </style>\n",
              "\n",
              "      <script>\n",
              "        const buttonEl =\n",
              "          document.querySelector('#df-4921a2e1-b0b2-44aa-8892-0b5c5dcfd278 button.colab-df-convert');\n",
              "        buttonEl.style.display =\n",
              "          google.colab.kernel.accessAllowed ? 'block' : 'none';\n",
              "\n",
              "        async function convertToInteractive(key) {\n",
              "          const element = document.querySelector('#df-4921a2e1-b0b2-44aa-8892-0b5c5dcfd278');\n",
              "          const dataTable =\n",
              "            await google.colab.kernel.invokeFunction('convertToInteractive',\n",
              "                                                     [key], {});\n",
              "          if (!dataTable) return;\n",
              "\n",
              "          const docLinkHtml = 'Like what you see? Visit the ' +\n",
              "            '<a target=\"_blank\" href=https://colab.research.google.com/notebooks/data_table.ipynb>data table notebook</a>'\n",
              "            + ' to learn more about interactive tables.';\n",
              "          element.innerHTML = '';\n",
              "          dataTable['output_type'] = 'display_data';\n",
              "          await google.colab.output.renderOutput(dataTable, element);\n",
              "          const docLink = document.createElement('div');\n",
              "          docLink.innerHTML = docLinkHtml;\n",
              "          element.appendChild(docLink);\n",
              "        }\n",
              "      </script>\n",
              "    </div>\n",
              "  </div>\n",
              "  "
            ]
          },
          "metadata": {},
          "execution_count": 262
        }
      ]
    },
    {
      "cell_type": "markdown",
      "source": [
        "**EKSEKUSI ETL - LOAD**"
      ],
      "metadata": {
        "id": "rPqnF7vZlDqO"
      }
    },
    {
      "cell_type": "code",
      "source": [
        "load(trans,'Data_orang_terkaya.csv')"
      ],
      "metadata": {
        "id": "V0L6ToU0m90N"
      },
      "execution_count": null,
      "outputs": []
    }
  ]
}